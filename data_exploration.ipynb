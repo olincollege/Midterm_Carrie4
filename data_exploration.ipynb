{
 "metadata": {
  "language_info": {
   "codemirror_mode": {
    "name": "ipython",
    "version": 3
   },
   "file_extension": ".py",
   "mimetype": "text/x-python",
   "name": "python",
   "nbconvert_exporter": "python",
   "pygments_lexer": "ipython3",
   "version": "3.8.5-final"
  },
  "orig_nbformat": 2,
  "kernelspec": {
   "name": "python3",
   "display_name": "Python 3",
   "language": "python"
  }
 },
 "nbformat": 4,
 "nbformat_minor": 2,
 "cells": [
  {
   "cell_type": "code",
   "execution_count": 1,
   "metadata": {},
   "outputs": [],
   "source": [
    "%load_ext autoreload\n",
    "%autoreload 2"
   ]
  },
  {
   "cell_type": "code",
   "execution_count": 2,
   "metadata": {},
   "outputs": [],
   "source": [
    "import pandas as pd\n",
    "import numpy as np"
   ]
  },
  {
   "cell_type": "code",
   "execution_count": 3,
   "metadata": {},
   "outputs": [],
   "source": [
    "netflix_data = pd.read_csv('netflix_titles_enriched.csv')\n",
    "df = pd.DataFrame(netflix_data);\n",
    "netflix_data = df.fillna('NONE');"
   ]
  },
  {
   "cell_type": "code",
   "execution_count": 4,
   "metadata": {},
   "outputs": [],
   "source": [
    "directors = {}\n",
    "cast = {}\n",
    "ratings = {}\n",
    "country = {}\n",
    "for director in netflix_data['director']:\n",
    "    if ',' in director:\n",
    "        for person in list(str(director).split(', ')):\n",
    "            if person not in directors:\n",
    "                directors[person] = 1\n",
    "            else:\n",
    "                directors[person] += 1\n",
    "    else:\n",
    "        if director not in directors:\n",
    "            directors[director] = 1\n",
    "        else:\n",
    "            directors[director] += 1\n",
    "\n",
    "for index, value in enumerate(netflix_data['cast']):\n",
    "    for member in list(str(value).split(', ')):\n",
    "        if member not in cast:\n",
    "            cast[member] = 1\n",
    "        else:\n",
    "            cast[member] +=1\n",
    "\n",
    "for rating in netflix_data['rating']:\n",
    "    if rating not in ratings:\n",
    "        ratings[rating] = 1\n",
    "    else:\n",
    "        ratings[rating] = ratings[rating] + 1"
   ]
  },
  {
   "cell_type": "code",
   "execution_count": 8,
   "metadata": {},
   "outputs": [],
   "source": [
    "all_directors = list(directors.keys())\n",
    "director_title_count = list(directors.values())\n",
    "all_actors = list(cast.keys())\n",
    "actor_title_count = list(cast.values())\n",
    "all_ratings = list(ratings.keys())\n",
    "ratings_title_count = list(ratings.keys())"
   ]
  },
  {
   "cell_type": "code",
   "execution_count": 9,
   "metadata": {},
   "outputs": [
    {
     "output_type": "execute_result",
     "data": {
      "text/plain": [
       "21"
      ]
     },
     "metadata": {},
     "execution_count": 9
    }
   ],
   "source": [
    "max(director_title_count)"
   ]
  },
  {
   "cell_type": "code",
   "execution_count": 10,
   "metadata": {
    "tags": []
   },
   "outputs": [
    {
     "output_type": "execute_result",
     "data": {
      "text/plain": [
       "['Jan Suter',\n",
       " 'Raúl Campos',\n",
       " 'Marcus Raboy',\n",
       " 'Jay Karas',\n",
       " 'Phil Sgriccia',\n",
       " 'Cathy Garcia-Molina',\n",
       " 'Youssef Chahine',\n",
       " 'Martin Scorsese',\n",
       " 'Jay Chapman',\n",
       " 'Anurag Kashyap',\n",
       " 'Steven Spielberg',\n",
       " 'Shannon Hartman',\n",
       " 'David Dhawan',\n",
       " 'Dan Forrer',\n",
       " 'Jay Chandrasekhar',\n",
       " 'Philippa Lowthorpe',\n",
       " 'Rob Seidenglanz',\n",
       " 'Hayato Date',\n",
       " 'Kunle Afolayan',\n",
       " 'Justin G. Dyck',\n",
       " 'Umesh Mehra',\n",
       " 'Hakan Algül',\n",
       " 'Ryan Polito',\n",
       " 'Johnnie To',\n",
       " 'Lance Bangs']"
      ]
     },
     "metadata": {},
     "execution_count": 10
    }
   ],
   "source": [
    "from data_sorting import sort_list_greatest_to_least\n",
    "\n",
    "sort_list_greatest_to_least(all_directors, director_title_count)"
   ]
  },
  {
   "cell_type": "code",
   "execution_count": 17,
   "metadata": {},
   "outputs": [
    {
     "output_type": "error",
     "ename": "TypeError",
     "evalue": "descriptor 'strftime' for 'datetime.date' objects doesn't apply to a 'str' object",
     "traceback": [
      "\u001b[0;31m---------------------------------------------------------------------------\u001b[0m",
      "\u001b[0;31mTypeError\u001b[0m                                 Traceback (most recent call last)",
      "\u001b[0;32m<ipython-input-17-2e8e45bda58f>\u001b[0m in \u001b[0;36m<module>\u001b[0;34m\u001b[0m\n\u001b[1;32m      5\u001b[0m \u001b[0;34m\u001b[0m\u001b[0m\n\u001b[1;32m      6\u001b[0m \u001b[0;32mfor\u001b[0m \u001b[0mday\u001b[0m \u001b[0;32min\u001b[0m \u001b[0mdf\u001b[0m\u001b[0;34m[\u001b[0m\u001b[0;34m\"date_added\"\u001b[0m\u001b[0;34m]\u001b[0m\u001b[0;34m:\u001b[0m\u001b[0;34m\u001b[0m\u001b[0;34m\u001b[0m\u001b[0m\n\u001b[0;32m----> 7\u001b[0;31m     \u001b[0madd_dates\u001b[0m\u001b[0;34m.\u001b[0m\u001b[0mappend\u001b[0m\u001b[0;34m(\u001b[0m\u001b[0mdt\u001b[0m\u001b[0;34m.\u001b[0m\u001b[0mdate\u001b[0m\u001b[0;34m.\u001b[0m\u001b[0mstrftime\u001b[0m\u001b[0;34m(\u001b[0m\u001b[0mday\u001b[0m\u001b[0;34m,\u001b[0m \u001b[0;34m\"%Y/%m/%d\"\u001b[0m\u001b[0;34m)\u001b[0m\u001b[0;34m)\u001b[0m\u001b[0;34m\u001b[0m\u001b[0;34m\u001b[0m\u001b[0m\n\u001b[0m\u001b[1;32m      8\u001b[0m \u001b[0;34m\u001b[0m\u001b[0m\n\u001b[1;32m      9\u001b[0m \u001b[0madd_dates\u001b[0m\u001b[0;34m,\u001b[0m \u001b[0mtomatometer_score\u001b[0m \u001b[0;34m=\u001b[0m \u001b[0mzip\u001b[0m\u001b[0;34m(\u001b[0m\u001b[0;34m*\u001b[0m\u001b[0msorted\u001b[0m\u001b[0;34m(\u001b[0m\u001b[0mzip\u001b[0m\u001b[0;34m(\u001b[0m\u001b[0madd_dates\u001b[0m\u001b[0;34m,\u001b[0m \u001b[0mlist\u001b[0m\u001b[0;34m(\u001b[0m\u001b[0mdf\u001b[0m\u001b[0;34m[\u001b[0m\u001b[0;34m\"rottentomatoes_tomatometer_score\"\u001b[0m\u001b[0;34m]\u001b[0m\u001b[0;34m)\u001b[0m\u001b[0;34m)\u001b[0m\u001b[0;34m)\u001b[0m\u001b[0;34m)\u001b[0m\u001b[0;34m\u001b[0m\u001b[0;34m\u001b[0m\u001b[0m\n",
      "\u001b[0;31mTypeError\u001b[0m: descriptor 'strftime' for 'datetime.date' objects doesn't apply to a 'str' object"
     ]
    }
   ],
   "source": [
    "import matplotlib.pyplot as plt\n",
    "import datetime as dt\n",
    "\n",
    "\n",
    "\n",
    "add_dates = []\n",
    "\n",
    "for day in df[\"date_added\"]:\n",
    "    add_dates.append(dt.date.strftime(day, \"%Y/%m/%d\"))\n",
    "\n",
    "add_dates, tomatometer_score = zip(*sorted(zip(add_dates, list(df[\"rottentomatoes_tomatometer_score\"]))))\n",
    "\n",
    "add_dates = list(add_dates)\n",
    "\n",
    "tomatometer_score = list(tomatometer_score)\n",
    "\n",
    "\n",
    "\n",
    "\n",
    "# pl.plot(df[\"date_added\"], df[\"rottentomatoes_tomatometer_score\"])"
   ]
  },
  {
   "cell_type": "code",
   "execution_count": 13,
   "metadata": {},
   "outputs": [
    {
     "output_type": "execute_result",
     "data": {
      "text/plain": [
       "0       December 23, 2016\n",
       "1       December 20, 2018\n",
       "2       November 16, 2017\n",
       "3         January 1, 2020\n",
       "4            June 1, 2020\n",
       "              ...        \n",
       "9652      August 14, 2020\n",
       "9653         July 1, 2019\n",
       "9654         July 1, 2019\n",
       "9655    November 26, 2019\n",
       "9656     October 31, 2020\n",
       "Name: date_added, Length: 9657, dtype: object"
      ]
     },
     "metadata": {},
     "execution_count": 13
    }
   ],
   "source": [
    "df[\"date_added\"]"
   ]
  },
  {
   "cell_type": "code",
   "execution_count": null,
   "metadata": {},
   "outputs": [],
   "source": []
  }
 ]
}