{
 "metadata": {
  "language_info": {
   "codemirror_mode": {
    "name": "ipython",
    "version": 3
   },
   "file_extension": ".py",
   "mimetype": "text/x-python",
   "name": "python",
   "nbconvert_exporter": "python",
   "pygments_lexer": "ipython3",
   "version": "3.8.5-final"
  },
  "orig_nbformat": 2,
  "kernelspec": {
   "name": "python385jvsc74a57bd0260690d7ac04fdbcd9c6f8efa93e31d8a25398d3e23f9493d65478f1ac089f35",
   "display_name": "Python 3.8.5 64-bit ('base': conda)"
  },
  "metadata": {
   "interpreter": {
    "hash": "260690d7ac04fdbcd9c6f8efa93e31d8a25398d3e23f9493d65478f1ac089f35"
   }
  }
 },
 "nbformat": 4,
 "nbformat_minor": 2,
 "cells": [
  {
   "cell_type": "code",
   "execution_count": 32,
   "metadata": {},
   "outputs": [
    {
     "output_type": "stream",
     "name": "stdout",
     "text": [
      "The autoreload extension is already loaded. To reload it, use:\n  %reload_ext autoreload\n"
     ]
    }
   ],
   "source": [
    "%load_ext autoreload\n",
    "%autoreload 2"
   ]
  },
  {
   "cell_type": "code",
   "execution_count": 33,
   "metadata": {},
   "outputs": [],
   "source": [
    "import pandas as pd\n",
    "import numpy as np\n",
    "import processing"
   ]
  },
  {
   "cell_type": "code",
   "execution_count": 34,
   "metadata": {},
   "outputs": [],
   "source": [
    "netflix_data = pd.read_csv('netflix_titles_enriched.csv')\n",
    "df = pd.DataFrame(netflix_data);\n",
    "netflix_data = df.fillna('NONE', inplace = True);"
   ]
  },
  {
   "cell_type": "code",
   "execution_count": 35,
   "metadata": {},
   "outputs": [],
   "source": [
    "\n",
    "# cast = {}\n",
    "# ratings = {}\n",
    "# country = {}\n",
    "\n",
    "# (directors, director_titles_count) = processing.extract_directors_and_title_count(netflix_data)\n",
    "# (directors, director_titles_count) = processing.remove_rows_containing_nan(directors, director_titles_count)\n",
    "\n",
    "# for index, value in enumerate(df['cast']):\n",
    "#     for member in list(str(value).split(', ')):\n",
    "#         if member not in cast:\n",
    "#             cast[member] = 1\n",
    "#         else:\n",
    "#             cast[member] +=1\n",
    "\n",
    "# (ratings, ratings_count) = processing.extract_rating_and_title_count(df)\n",
    "# (ratings, ratings_count) = processing.remove_rows_containing_nan(ratings, ratings_count)"
   ]
  },
  {
   "cell_type": "code",
   "execution_count": 36,
   "metadata": {},
   "outputs": [],
   "source": [
    "# import matplotlib.pyplot as plt\n",
    "# import datetime as dt\n",
    "# import processing\n",
    "\n",
    "# add_dates = []\n",
    "# all_dates = []\n",
    "\n",
    "\n",
    "# for day in df[\"date_added\"]:\n",
    "#     if isinstance(day, str):\n",
    "#         all_dates.append(processing.convert_date_to_datetime(day))\n",
    "\n",
    "# for day in all_dates:\n",
    "#     add_dates.append(dt.date.strftime(day, \"%Y/%m/%d\"))\n",
    "\n",
    "# add_dates, tomatometer_score = zip(*sorted(zip(add_dates, list(df[\"rottentomatoes_tomatometer_score\"]))))\n",
    "\n",
    "# add_dates = list(add_dates)\n",
    "\n",
    "# tomatometer_score = list(tomatometer_score)\n",
    "\n",
    "\n",
    "\n",
    "\n",
    "# pl.plot(df[\"date_added\"], df[\"rottentomatoes_tomatometer_score\"])"
   ]
  },
  {
   "cell_type": "code",
   "execution_count": 46,
   "metadata": {
    "tags": []
   },
   "outputs": [
    {
     "output_type": "stream",
     "name": "stdout",
     "text": [
      "[3571, 2493, 995, 665, 461, 411, 386, 269, 247, 98, 39, 12, 7, 3]\n"
     ]
    }
   ],
   "source": [
    "import processing as pg\n",
    "import plots\n",
    "(ratings, counts) = pg.extract_rating_and_title_count(df)\n",
    "\n",
    "(ratings, counts) = pg.remove_rows_containing_nan(ratings, counts)\n",
    "\n",
    "(counts, ratings) = pg.sort_list_based_on_other(counts, ratings, greatest_to_least=True)\n",
    "\n",
    "%matplotlib qt\n",
    "plots.color_changer([\"#81729b\",\"#695e7e\",\"#554d65\",\"#40394b\",\"#2a2634\"])\n",
    "plots.pie_chart(ratings, counts, 10, 0)"
   ]
  },
  {
   "cell_type": "code",
   "execution_count": 38,
   "metadata": {
    "tags": []
   },
   "outputs": [
    {
     "output_type": "error",
     "ename": "TypeError",
     "evalue": "bar_graph() got an unexpected keyword argument 'x_label'",
     "traceback": [
      "\u001b[0;31m---------------------------------------------------------------------------\u001b[0m",
      "\u001b[0;31mTypeError\u001b[0m                                 Traceback (most recent call last)",
      "\u001b[0;32m<ipython-input-38-fd40cf3abb59>\u001b[0m in \u001b[0;36m<module>\u001b[0;34m\u001b[0m\n\u001b[1;32m     22\u001b[0m \u001b[0;34m(\u001b[0m\u001b[0mdifference_counts\u001b[0m\u001b[0;34m,\u001b[0m \u001b[0mdifferences\u001b[0m\u001b[0;34m)\u001b[0m \u001b[0;34m=\u001b[0m \u001b[0mpg\u001b[0m\u001b[0;34m.\u001b[0m\u001b[0msort_list_based_on_other\u001b[0m\u001b[0;34m(\u001b[0m\u001b[0mdifference_counts\u001b[0m\u001b[0;34m,\u001b[0m \u001b[0mdifferences\u001b[0m\u001b[0;34m)\u001b[0m\u001b[0;34m\u001b[0m\u001b[0;34m\u001b[0m\u001b[0m\n\u001b[1;32m     23\u001b[0m \u001b[0;34m\u001b[0m\u001b[0m\n\u001b[0;32m---> 24\u001b[0;31m \u001b[0mplots\u001b[0m\u001b[0;34m.\u001b[0m\u001b[0mbar_graph\u001b[0m\u001b[0;34m(\u001b[0m\u001b[0mx_data\u001b[0m\u001b[0;34m=\u001b[0m\u001b[0mdifferences\u001b[0m\u001b[0;34m,\u001b[0m \u001b[0my_data\u001b[0m\u001b[0;34m=\u001b[0m\u001b[0mdifference_counts\u001b[0m\u001b[0;34m,\u001b[0m \u001b[0mx_label\u001b[0m\u001b[0;34m=\u001b[0m\u001b[0;34m\"Time (Years)\"\u001b[0m\u001b[0;34m,\u001b[0m \u001b[0my_label\u001b[0m\u001b[0;34m=\u001b[0m\u001b[0;34m\"Number of Titles\"\u001b[0m\u001b[0;34m,\u001b[0m \u001b[0mgraph_title\u001b[0m \u001b[0;34m=\u001b[0m \u001b[0;34m\"Age of Netflix Titles\"\u001b[0m\u001b[0;34m,\u001b[0m \u001b[0mcolor\u001b[0m\u001b[0;34m=\u001b[0m\u001b[0;34m\"blue\"\u001b[0m\u001b[0;34m)\u001b[0m\u001b[0;34m\u001b[0m\u001b[0;34m\u001b[0m\u001b[0m\n\u001b[0m",
      "\u001b[0;31mTypeError\u001b[0m: bar_graph() got an unexpected keyword argument 'x_label'"
     ]
    }
   ],
   "source": [
    "now_list = [2021]*len(df[\"release_year\"])\n",
    "\n",
    "#differences = pg.find_year_difference(df[\"date_added\"], df[\"release_year\"])\n",
    "differences = []\n",
    "\n",
    "zipped = zip(now_list, list(df[\"release_year\"]))\n",
    "\n",
    "for list_1, list_2 in zipped:\n",
    "    differences.append(list_1-list_2)\n",
    "\n",
    "difference_dict = {}\n",
    "for difference in differences:\n",
    "    if difference not in difference_dict:\n",
    "        difference_dict[difference] = 1\n",
    "    else:\n",
    "        difference_dict[difference] += 1\n",
    "\n",
    "differences = list(difference_dict.keys())\n",
    "\n",
    "difference_counts = list(difference_dict.values())\n",
    "\n",
    "(difference_counts, differences) = pg.sort_list_based_on_other(difference_counts, differences)\n",
    "\n",
    "plots.bar_graph(x_data=differences, y_data=difference_counts, x_label=\"Time (Years)\", y_label=\"Number of Titles\", graph_title = \"Age of Netflix Titles\", color=\"blue\")"
   ]
  },
  {
   "cell_type": "code",
   "execution_count": 39,
   "metadata": {},
   "outputs": [
    {
     "output_type": "error",
     "ename": "TypeError",
     "evalue": "violin_plot() got an unexpected keyword argument 'x_label'",
     "traceback": [
      "\u001b[0;31m---------------------------------------------------------------------------\u001b[0m",
      "\u001b[0;31mTypeError\u001b[0m                                 Traceback (most recent call last)",
      "\u001b[0;32m<ipython-input-39-b577ea60424f>\u001b[0m in \u001b[0;36m<module>\u001b[0;34m\u001b[0m\n\u001b[0;32m----> 1\u001b[0;31m \u001b[0mpg\u001b[0m\u001b[0;34m.\u001b[0m\u001b[0mcritics_vs_audience_scores\u001b[0m\u001b[0;34m(\u001b[0m\u001b[0mdf\u001b[0m\u001b[0;34m)\u001b[0m\u001b[0;34m\u001b[0m\u001b[0;34m\u001b[0m\u001b[0m\n\u001b[0m",
      "\u001b[0;32m~/Midterm_Carrie4/processing.py\u001b[0m in \u001b[0;36mcritics_vs_audience_scores\u001b[0;34m(data_frame)\u001b[0m\n\u001b[1;32m    317\u001b[0m         \"rottentomatoes_audience_score\", \"Audience Score\")\n\u001b[1;32m    318\u001b[0m \u001b[0;34m\u001b[0m\u001b[0m\n\u001b[0;32m--> 319\u001b[0;31m     plots.violin_plot(\"PlotData\", data, \"Logic\", x_label = \"x_label\",\\\n\u001b[0m\u001b[1;32m    320\u001b[0m         graph_title=\"Critic and Audience Ratings of Netflix Titles\")\n",
      "\u001b[0;31mTypeError\u001b[0m: violin_plot() got an unexpected keyword argument 'x_label'"
     ]
    }
   ],
   "source": [
    "pg.critics_vs_audience_scores(df)"
   ]
  },
  {
   "cell_type": "code",
   "execution_count": null,
   "metadata": {},
   "outputs": [],
   "source": []
  }
 ]
}