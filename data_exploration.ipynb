{
 "metadata": {
  "language_info": {
   "codemirror_mode": {
    "name": "ipython",
    "version": 3
   },
   "file_extension": ".py",
   "mimetype": "text/x-python",
   "name": "python",
   "nbconvert_exporter": "python",
   "pygments_lexer": "ipython3",
   "version": "3.8.5-final"
  },
  "orig_nbformat": 2,
  "kernelspec": {
   "name": "python385jvsc74a57bd0260690d7ac04fdbcd9c6f8efa93e31d8a25398d3e23f9493d65478f1ac089f35",
   "display_name": "Python 3.8.5 64-bit ('base': conda)"
  },
  "metadata": {
   "interpreter": {
    "hash": "260690d7ac04fdbcd9c6f8efa93e31d8a25398d3e23f9493d65478f1ac089f35"
   }
  }
 },
 "nbformat": 4,
 "nbformat_minor": 2,
 "cells": [
  {
   "cell_type": "code",
   "execution_count": 2,
   "metadata": {},
   "outputs": [],
   "source": [
    "%load_ext autoreload\n",
    "%autoreload 2"
   ]
  },
  {
   "cell_type": "code",
   "execution_count": 3,
   "metadata": {},
   "outputs": [],
   "source": [
    "import pandas as pd\n",
    "import numpy as np\n",
    "import processing"
   ]
  },
  {
   "cell_type": "code",
   "execution_count": 4,
   "metadata": {},
   "outputs": [],
   "source": [
    "netflix_data = pd.read_csv('netflix_titles_enriched.csv')\n",
    "df = pd.DataFrame(netflix_data);\n",
    "netflix_data = df.fillna('NONE', inplace = True);"
   ]
  },
  {
   "cell_type": "code",
   "execution_count": 5,
   "metadata": {},
   "outputs": [],
   "source": [
    "\n",
    "# cast = {}\n",
    "# ratings = {}\n",
    "# country = {}\n",
    "\n",
    "# (directors, director_titles_count) = processing.extract_directors_and_title_count(netflix_data)\n",
    "# (directors, director_titles_count) = processing.remove_rows_containing_nan(directors, director_titles_count)\n",
    "\n",
    "# for index, value in enumerate(df['cast']):\n",
    "#     for member in list(str(value).split(', ')):\n",
    "#         if member not in cast:\n",
    "#             cast[member] = 1\n",
    "#         else:\n",
    "#             cast[member] +=1\n",
    "\n",
    "# (ratings, ratings_count) = processing.extract_rating_and_title_count(df)\n",
    "# (ratings, ratings_count) = processing.remove_rows_containing_nan(ratings, ratings_count)"
   ]
  },
  {
   "cell_type": "code",
   "execution_count": 6,
   "metadata": {},
   "outputs": [],
   "source": [
    "# all_actors = list(cast.keys())\n",
    "# actor_title_count = list(cast.values())"
   ]
  },
  {
   "cell_type": "code",
   "execution_count": 7,
   "metadata": {},
   "outputs": [],
   "source": [
    "# directors[director_titles_count.index(max(director_titles_count))]\n",
    "# director_titles_count[directors.index('Steven Spielberg')]"
   ]
  },
  {
   "cell_type": "code",
   "execution_count": 8,
   "metadata": {},
   "outputs": [],
   "source": [
    "# import matplotlib.pyplot as plt\n",
    "# import datetime as dt\n",
    "# import processing\n",
    "\n",
    "# add_dates = []\n",
    "# all_dates = []\n",
    "\n",
    "\n",
    "# for day in df[\"date_added\"]:\n",
    "#     if isinstance(day, str):\n",
    "#         all_dates.append(processing.convert_date_to_datetime(day))\n",
    "\n",
    "# for day in all_dates:\n",
    "#     add_dates.append(dt.date.strftime(day, \"%Y/%m/%d\"))\n",
    "\n",
    "# add_dates, tomatometer_score = zip(*sorted(zip(add_dates, list(df[\"rottentomatoes_tomatometer_score\"]))))\n",
    "\n",
    "# add_dates = list(add_dates)\n",
    "\n",
    "# tomatometer_score = list(tomatometer_score)\n",
    "\n",
    "\n",
    "\n",
    "\n",
    "# pl.plot(df[\"date_added\"], df[\"rottentomatoes_tomatometer_score\"])"
   ]
  },
  {
   "cell_type": "code",
   "execution_count": 9,
   "metadata": {
    "tags": []
   },
   "outputs": [
    {
     "output_type": "stream",
     "name": "stdout",
     "text": [
      "['TV-MA', 'TV-14', 'TV-PG', 'R', 'TV-Y7', 'TV-Y', 'PG-13', 'TV-G', 'PG', 'NR', 'G', 'UR', 'TV-Y7-FV', 'NC-17']\n[3571, 2493, 995, 665, 461, 411, 386, 269, 247, 98, 39, 12, 7, 3]\n"
     ]
    }
   ],
   "source": [
    "import processing as pg\n",
    "import plots\n",
    "(ratings, counts) = pg.extract_rating_and_title_count(df)\n",
    "\n",
    "(ratings, counts) = pg.remove_rows_containing_nan(ratings, counts)\n",
    "\n",
    "(ratings, counts) = pg.sort_list_based_on_other(ratings, counts, greatest_to_least=True)\n",
    "print(counts)\n",
    "%matplotlib qt\n",
    "plots.color_changer([\"#A60000\",\"#F03D56\",\"#E5AB4A\",\"#D6A25F\",\"#8D4460\",\"#293337\",\"#7E9695\",\"#052F58\",\"#124F5D\",\"#F6F5F5\",\"#B0C5BF\",\"#2F4445\"])\n",
    "plots.pie_chart(ratings, counts, 10, 0)"
   ]
  },
  {
   "cell_type": "code",
   "execution_count": 10,
   "metadata": {},
   "outputs": [],
   "source": [
    "# tomatoes = pg.remove_none_entries_one_dataframe_column(df['rottentomatoes_tomatometer_score'])\n",
    "# plots.plot_format()\n",
    "# plots.violin_plot(tomatoes, x_title=\"\", y_title=\"Tomatometer Score\", graph_title= \"Critic Ratings of Netflix Offerings\")"
   ]
  },
  {
   "cell_type": "code",
   "execution_count": 11,
   "metadata": {
    "tags": []
   },
   "outputs": [
    {
     "output_type": "stream",
     "name": "stdout",
     "text": [
      "0\n[48, 1211, 1351, 1389, 1242, 1018, 652, 381, 313, 265, 180, 193, 144, 133, 106, 118, 92, 63, 79, 56, 37, 45, 46, 42, 34, 19, 20, 16, 28, 37, 17, 25, 13, 20, 7, 15, 9, 9, 9, 15, 9, 9, 11, 6, 16, 9, 6, 10, 10, 4, 5, 2, 2, 7, 12, 1, 2, 1, 5, 3, 4, 1, 3, 2, 3, 2, 1, 2, 3, 3, 3, 2, 1]\n"
     ]
    }
   ],
   "source": [
    "now_list = [2021]*len(df[\"release_year\"])\n",
    "\n",
    "#differences = pg.find_year_difference(df[\"date_added\"], df[\"release_year\"])\n",
    "differences = []\n",
    "\n",
    "zipped = zip(now_list, list(df[\"release_year\"]))\n",
    "\n",
    "for list_1, list_2 in zipped:\n",
    "    differences.append(list_1-list_2)\n",
    "\n",
    "count = 0\n",
    "for difference in differences:\n",
    "    if difference ==-1:\n",
    "        count +=1\n",
    "print(count)\n",
    "\n",
    "difference_dict = {}\n",
    "for difference in differences:\n",
    "    if difference not in difference_dict:\n",
    "        difference_dict[difference] = 1\n",
    "    else:\n",
    "        difference_dict[difference] += 1\n",
    "\n",
    "differences = list(difference_dict.keys())\n",
    "\n",
    "difference_counts = list(difference_dict.values())\n",
    "\n",
    "(difference_counts, differences) = pg.sort_list_based_on_other(difference_counts, differences)\n",
    "\n",
    "plots.bar_graph(x_data=differences, y_data=difference_counts, x_label=\"Time (Years)\", y_label=\"Number of Titles\", graph_title = \"Age of Netflix Titles\", color=\"blue\")"
   ]
  },
  {
   "cell_type": "code",
   "execution_count": 12,
   "metadata": {
    "tags": []
   },
   "outputs": [],
   "source": [
    "# MA_ratings = pg.find_cases_and_pull_from_other_column(df, \"rating\", \"TV-MA\", \"rottentomatoes_tomatometer_score\")\n",
    "# MA_ratings = pg.remove_none_entries_one_list(MA_ratings)\n",
    "# plots.violin_plot(MA_ratings, x_title= \"\", y_title=\"Tomatometer Score\", graph_title = \"Tomatometer Scores for Title Rated TV-MA\")"
   ]
  },
  {
   "cell_type": "code",
   "execution_count": 28,
   "metadata": {},
   "outputs": [],
   "source": [
    "pg.critics_vs_audience_scores(df)"
   ]
  },
  {
   "cell_type": "code",
   "execution_count": 14,
   "metadata": {},
   "outputs": [
    {
     "output_type": "stream",
     "name": "stdout",
     "text": [
      "533979\n"
     ]
    }
   ],
   "source": [
    "durations = list(df[\"duration\"])\n",
    "total_time = 0\n",
    "\n",
    "for duration in durations:\n",
    "    if duration[-3:] == \"min\":\n",
    "        total_time += int(duration[0:-4])\n",
    "\n",
    "print(total_time)"
   ]
  },
  {
   "cell_type": "code",
   "execution_count": null,
   "metadata": {},
   "outputs": [],
   "source": []
  }
 ]
}