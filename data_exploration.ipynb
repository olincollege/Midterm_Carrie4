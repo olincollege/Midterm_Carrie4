{
 "metadata": {
  "language_info": {
   "codemirror_mode": {
    "name": "ipython",
    "version": 3
   },
   "file_extension": ".py",
   "mimetype": "text/x-python",
   "name": "python",
   "nbconvert_exporter": "python",
   "pygments_lexer": "ipython3",
   "version": "3.9.4-final"
  },
  "orig_nbformat": 2,
  "kernelspec": {
   "name": "python394jvsc74a57bd05779002878eaf6067ef6b8cae86de53f7712254523eb18606410be49f684aa06",
   "display_name": "Python 3.9.4 64-bit"
  },
  "metadata": {
   "interpreter": {
    "hash": "5779002878eaf6067ef6b8cae86de53f7712254523eb18606410be49f684aa06"
   }
  }
 },
 "nbformat": 4,
 "nbformat_minor": 2,
 "cells": [
  {
   "cell_type": "code",
   "execution_count": 2,
   "metadata": {},
   "outputs": [
    {
     "output_type": "stream",
     "name": "stdout",
     "text": [
      "The autoreload extension is already loaded. To reload it, use:\n  %reload_ext autoreload\n"
     ]
    }
   ],
   "source": [
    "%load_ext autoreload\n",
    "%autoreload 2"
   ]
  },
  {
   "cell_type": "code",
   "execution_count": 3,
   "metadata": {},
   "outputs": [],
   "source": [
    "import pandas as pd\n",
    "import numpy as np\n",
    "import processing"
   ]
  },
  {
   "cell_type": "code",
   "execution_count": 4,
   "metadata": {},
   "outputs": [],
   "source": [
    "netflix_data = pd.read_csv('netflix_titles_enriched.csv')\n",
    "df = pd.DataFrame(netflix_data);\n",
    "netflix_data = df.fillna('NONE', inplace = True);"
   ]
  },
  {
   "cell_type": "code",
   "execution_count": 35,
   "metadata": {},
   "outputs": [],
   "source": [
    "\n",
    "# cast = {}\n",
    "# ratings = {}\n",
    "# country = {}\n",
    "\n",
    "# (directors, director_titles_count) = processing.extract_directors_and_title_count(netflix_data)\n",
    "# (directors, director_titles_count) = processing.remove_rows_containing_nan(directors, director_titles_count)\n",
    "\n",
    "# for index, value in enumerate(df['cast']):\n",
    "#     for member in list(str(value).split(', ')):\n",
    "#         if member not in cast:\n",
    "#             cast[member] = 1\n",
    "#         else:\n",
    "#             cast[member] +=1\n",
    "\n",
    "# (ratings, ratings_count) = processing.extract_rating_and_title_count(df)\n",
    "# (ratings, ratings_count) = processing.remove_rows_containing_nan(ratings, ratings_count)"
   ]
  },
  {
   "cell_type": "code",
   "execution_count": 36,
   "metadata": {},
   "outputs": [],
   "source": [
    "# import matplotlib.pyplot as plt\n",
    "# import datetime as dt\n",
    "# import processing\n",
    "\n",
    "# add_dates = []\n",
    "# all_dates = []\n",
    "\n",
    "\n",
    "# for day in df[\"date_added\"]:\n",
    "#     if isinstance(day, str):\n",
    "#         all_dates.append(processing.convert_date_to_datetime(day))\n",
    "\n",
    "# for day in all_dates:\n",
    "#     add_dates.append(dt.date.strftime(day, \"%Y/%m/%d\"))\n",
    "\n",
    "# add_dates, tomatometer_score = zip(*sorted(zip(add_dates, list(df[\"rottentomatoes_tomatometer_score\"]))))\n",
    "\n",
    "# add_dates = list(add_dates)\n",
    "\n",
    "# tomatometer_score = list(tomatometer_score)\n",
    "\n",
    "\n",
    "\n",
    "\n",
    "# pl.plot(df[\"date_added\"], df[\"rottentomatoes_tomatometer_score\"])"
   ]
  },
  {
   "cell_type": "code",
   "execution_count": 6,
   "metadata": {
    "tags": []
   },
   "outputs": [],
   "source": [
    "import processing as pg\n",
    "import plots\n",
    "(ratings, counts) = pg.extract_rating_and_title_count(df)\n",
    "\n",
    "(ratings, counts) = pg.remove_rows_containing_nan(ratings, counts)\n",
    "\n",
    "(counts, ratings) = pg.sort_list_based_on_other(counts, ratings, greatest_to_least=True)\n",
    "\n",
    "%matplotlib qt\n",
    "plots.color_changer([\"#6c446b\",\"#deced1\",\"#e09e8f\",\"#8f3c5a\",\"#5b7373\"])\n",
    "plots.pie_chart(ratings, counts, 10, 0)"
   ]
  },
  {
   "cell_type": "code",
   "execution_count": 9,
   "metadata": {
    "tags": []
   },
   "outputs": [],
   "source": [
    "now_list = [2021]*len(df[\"release_year\"])\n",
    "\n",
    "#differences = pg.find_year_difference(df[\"date_added\"], df[\"release_year\"])\n",
    "differences = []\n",
    "\n",
    "zipped = zip(now_list, list(df[\"release_year\"]))\n",
    "\n",
    "for list_1, list_2 in zipped:\n",
    "    differences.append(list_1-list_2)\n",
    "\n",
    "difference_dict = {}\n",
    "for difference in differences:\n",
    "    if difference not in difference_dict:\n",
    "        difference_dict[difference] = 1\n",
    "    else:\n",
    "        difference_dict[difference] += 1\n",
    "\n",
    "differences = list(difference_dict.keys())\n",
    "\n",
    "difference_counts = list(difference_dict.values())\n",
    "\n",
    "(difference_counts, differences) = pg.sort_list_based_on_other(difference_counts, differences)\n",
    "\n",
    "plots.bar_graph([\"Time (Years)\",\"Number of Titles\",\"Age of Netflix Titles\"],x_data=differences, y_data=difference_counts, color=\"blue\")"
   ]
  },
  {
   "cell_type": "code",
   "execution_count": 14,
   "metadata": {},
   "outputs": [
    {
     "output_type": "stream",
     "name": "stdout",
     "text": [
      "      PlotData           Logic x_label\n0        100.0    Critic Score    Data\n1         30.0    Critic Score    Data\n2         40.0    Critic Score    Data\n3          9.0    Critic Score    Data\n4         77.0    Critic Score    Data\n...        ...             ...     ...\n5609      80.0  Audience Score    Data\n5610      82.0  Audience Score    Data\n5611      82.0  Audience Score    Data\n5612      70.0  Audience Score    Data\n5613      72.0  Audience Score    Data\n\n[5614 rows x 3 columns]\n"
     ]
    }
   ],
   "source": [
    "pg.critics_vs_audience_scores(df)"
   ]
  },
  {
   "cell_type": "code",
   "execution_count": null,
   "metadata": {},
   "outputs": [],
   "source": []
  }
 ]
}