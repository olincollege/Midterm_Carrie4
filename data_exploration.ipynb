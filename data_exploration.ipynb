{
 "metadata": {
  "language_info": {
   "codemirror_mode": {
    "name": "ipython",
    "version": 3
   },
   "file_extension": ".py",
   "mimetype": "text/x-python",
   "name": "python",
   "nbconvert_exporter": "python",
   "pygments_lexer": "ipython3",
   "version": "3.8.5-final"
  },
  "orig_nbformat": 2,
  "kernelspec": {
   "name": "python3",
   "display_name": "Python 3",
   "language": "python"
  }
 },
 "nbformat": 4,
 "nbformat_minor": 2,
 "cells": [
  {
   "cell_type": "code",
   "execution_count": 1,
   "metadata": {},
   "outputs": [],
   "source": [
    "import pandas as pd\n",
    "import numpy as np"
   ]
  },
  {
   "cell_type": "code",
   "execution_count": 26,
   "metadata": {},
   "outputs": [],
   "source": [
    "netflix_data = pd.read_csv('netflix_titles.csv')\n",
    "df = pd.DataFrame(netflix_data);\n",
    "df.fillna(\"NONE\");"
   ]
  },
  {
   "cell_type": "code",
   "execution_count": 3,
   "metadata": {},
   "outputs": [],
   "source": [
    "directors = {}\n",
    "cast = {}\n",
    "ratings = {}\n",
    "country = {}\n",
    "for director in netflix_data['director']:\n",
    "    if director not in directors:\n",
    "        directors[director] = 1\n",
    "    else:\n",
    "        directors[director] += 1\n",
    "\n",
    "for index, value in enumerate(netflix_data['cast']):\n",
    "    for member in list(str(value).split(\", \")):\n",
    "        if member not in cast:\n",
    "            cast[member] = 1\n",
    "        else:\n",
    "            cast[member] +=1\n",
    "\n",
    "for rating in netflix_data['rating']:\n",
    "    if rating not in ratings:\n",
    "        ratings[rating] = 1\n",
    "    else:\n",
    "        ratings[rating] = ratings[rating] + 1"
   ]
  },
  {
   "cell_type": "code",
   "execution_count": 4,
   "metadata": {},
   "outputs": [],
   "source": [
    "all_directors = list(directors.keys())\n",
    "director_title_count = list(directors.values())\n",
    "all_actors = list(cast.keys())\n",
    "actor_title_count = list(cast.values())\n",
    "all_ratings = list(ratings.keys())\n",
    "ratings_title_count = list(ratings.keys())"
   ]
  },
  {
   "cell_type": "code",
   "execution_count": 23,
   "metadata": {},
   "outputs": [
    {
     "output_type": "execute_result",
     "data": {
      "text/plain": [
       "2389"
      ]
     },
     "metadata": {},
     "execution_count": 23
    }
   ],
   "source": [
    "directors[all_directors[director_title_count.index(max(director_title_count))]]\n",
    "\n",
    "# del directors['nan']\n",
    "# del cast['nan']\n",
    "# del ratings['nan']"
   ]
  },
  {
   "cell_type": "code",
   "execution_count": 67,
   "metadata": {},
   "outputs": [],
   "source": [
    "#cast"
   ]
  },
  {
   "cell_type": "code",
   "execution_count": null,
   "metadata": {},
   "outputs": [],
   "source": [
    "''"
   ]
  }
 ]
}