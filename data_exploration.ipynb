{
 "metadata": {
  "language_info": {
   "codemirror_mode": {
    "name": "ipython",
    "version": 3
   },
   "file_extension": ".py",
   "mimetype": "text/x-python",
   "name": "python",
   "nbconvert_exporter": "python",
   "pygments_lexer": "ipython3",
   "version": "3.8.5-final"
  },
  "orig_nbformat": 2,
  "kernelspec": {
   "name": "python385jvsc74a57bd0260690d7ac04fdbcd9c6f8efa93e31d8a25398d3e23f9493d65478f1ac089f35",
   "display_name": "Python 3.8.5 64-bit ('base': conda)"
  },
  "metadata": {
   "interpreter": {
    "hash": "260690d7ac04fdbcd9c6f8efa93e31d8a25398d3e23f9493d65478f1ac089f35"
   }
  }
 },
 "nbformat": 4,
 "nbformat_minor": 2,
 "cells": [
  {
   "cell_type": "code",
   "execution_count": 1,
   "metadata": {},
   "outputs": [],
   "source": [
    "%load_ext autoreload\n",
    "%autoreload 2"
   ]
  },
  {
   "cell_type": "code",
   "execution_count": 2,
   "metadata": {},
   "outputs": [],
   "source": [
    "import pandas as pd\n",
    "import numpy as np\n",
    "import processing"
   ]
  },
  {
   "cell_type": "code",
   "execution_count": 3,
   "metadata": {},
   "outputs": [
    {
     "output_type": "stream",
     "name": "stdout",
     "text": [
      "<class 'pandas.core.frame.DataFrame'>\n"
     ]
    }
   ],
   "source": [
    "netflix_data = pd.read_csv('netflix_titles_enriched.csv')\n",
    "df = pd.DataFrame(netflix_data);\n",
    "print(type(df))\n",
    "netflix_data = df.fillna('NONE', inplace = True);"
   ]
  },
  {
   "cell_type": "code",
   "execution_count": 4,
   "metadata": {},
   "outputs": [],
   "source": [
    "\n",
    "# cast = {}\n",
    "# ratings = {}\n",
    "# country = {}\n",
    "\n",
    "# (directors, director_titles_count) = processing.extract_directors_and_title_count(netflix_data)\n",
    "# (directors, director_titles_count) = processing.remove_rows_containing_nan(directors, director_titles_count)\n",
    "\n",
    "# for index, value in enumerate(df['cast']):\n",
    "#     for member in list(str(value).split(', ')):\n",
    "#         if member not in cast:\n",
    "#             cast[member] = 1\n",
    "#         else:\n",
    "#             cast[member] +=1\n",
    "\n",
    "(ratings, ratings_count) = processing.extract_rating_and_title_count(df)\n",
    "(ratings, ratings_count) = processing.remove_rows_containing_nan_(ratings, ratings_count)"
   ]
  },
  {
   "cell_type": "code",
   "execution_count": 5,
   "metadata": {},
   "outputs": [
    {
     "output_type": "error",
     "ename": "NameError",
     "evalue": "name 'cast' is not defined",
     "traceback": [
      "\u001b[0;31m---------------------------------------------------------------------------\u001b[0m",
      "\u001b[0;31mNameError\u001b[0m                                 Traceback (most recent call last)",
      "\u001b[0;32m<ipython-input-5-2085a2444691>\u001b[0m in \u001b[0;36m<module>\u001b[0;34m\u001b[0m\n\u001b[0;32m----> 1\u001b[0;31m \u001b[0mall_actors\u001b[0m \u001b[0;34m=\u001b[0m \u001b[0mlist\u001b[0m\u001b[0;34m(\u001b[0m\u001b[0mcast\u001b[0m\u001b[0;34m.\u001b[0m\u001b[0mkeys\u001b[0m\u001b[0;34m(\u001b[0m\u001b[0;34m)\u001b[0m\u001b[0;34m)\u001b[0m\u001b[0;34m\u001b[0m\u001b[0;34m\u001b[0m\u001b[0m\n\u001b[0m\u001b[1;32m      2\u001b[0m \u001b[0mactor_title_count\u001b[0m \u001b[0;34m=\u001b[0m \u001b[0mlist\u001b[0m\u001b[0;34m(\u001b[0m\u001b[0mcast\u001b[0m\u001b[0;34m.\u001b[0m\u001b[0mvalues\u001b[0m\u001b[0;34m(\u001b[0m\u001b[0;34m)\u001b[0m\u001b[0;34m)\u001b[0m\u001b[0;34m\u001b[0m\u001b[0;34m\u001b[0m\u001b[0m\n",
      "\u001b[0;31mNameError\u001b[0m: name 'cast' is not defined"
     ]
    }
   ],
   "source": [
    "all_actors = list(cast.keys())\n",
    "actor_title_count = list(cast.values())"
   ]
  },
  {
   "cell_type": "code",
   "execution_count": 14,
   "metadata": {},
   "outputs": [
    {
     "output_type": "execute_result",
     "data": {
      "text/plain": [
       "10"
      ]
     },
     "metadata": {},
     "execution_count": 14
    }
   ],
   "source": [
    "directors[director_titles_count.index(max(director_titles_count))]\n",
    "director_titles_count[directors.index('Steven Spielberg')]"
   ]
  },
  {
   "cell_type": "code",
   "execution_count": 15,
   "metadata": {},
   "outputs": [],
   "source": [
    "# import matplotlib.pyplot as plt\n",
    "# import datetime as dt\n",
    "# import processing\n",
    "\n",
    "# add_dates = []\n",
    "# all_dates = []\n",
    "\n",
    "\n",
    "# for day in df[\"date_added\"]:\n",
    "#     if isinstance(day, str):\n",
    "#         all_dates.append(processing.convert_date_to_datetime(day))\n",
    "\n",
    "# for day in all_dates:\n",
    "#     add_dates.append(dt.date.strftime(day, \"%Y/%m/%d\"))\n",
    "\n",
    "# add_dates, tomatometer_score = zip(*sorted(zip(add_dates, list(df[\"rottentomatoes_tomatometer_score\"]))))\n",
    "\n",
    "# add_dates = list(add_dates)\n",
    "\n",
    "# tomatometer_score = list(tomatometer_score)\n",
    "\n",
    "\n",
    "\n",
    "\n",
    "# pl.plot(df[\"date_added\"], df[\"rottentomatoes_tomatometer_score\"])"
   ]
  },
  {
   "cell_type": "code",
   "execution_count": 26,
   "metadata": {
    "tags": []
   },
   "outputs": [],
   "source": [
    "import processing as pg\n",
    "import plots\n",
    "(directors, counts) = pg.extract_directors_and_title_count(df)\n",
    "\n",
    "(directors, counts) = pg.remove_rows_containing_nan_(directors, counts)\n",
    "\n",
    "(directors, counts) = pg.sort_list_based_on_other(directors, counts, greatest_to_least=True)\n",
    "\n",
    "%matplotlib qt\n",
    "plots.color_changer()\n",
    "plots.pie_chart(directors, counts, 25, 0)"
   ]
  },
  {
   "cell_type": "code",
   "execution_count": 41,
   "metadata": {},
   "outputs": [],
   "source": [
    "tomatoes = pg.remove_none_entries_one_dataframe_column(df['rottentomatoes_tomatometer_score'])\n",
    "plots.plot_format()\n",
    "plots.violin_plot(tomatoes, x_title=\"\", y_title=\"Tomatometer Score\", graph_title= \"Critic Ratings of Netflix Offerings\")"
   ]
  },
  {
   "cell_type": "code",
   "execution_count": null,
   "metadata": {},
   "outputs": [],
   "source": []
  }
 ]
}