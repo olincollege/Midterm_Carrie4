{
 "metadata": {
  "language_info": {
   "codemirror_mode": {
    "name": "ipython",
    "version": 3
   },
   "file_extension": ".py",
   "mimetype": "text/x-python",
   "name": "python",
   "nbconvert_exporter": "python",
   "pygments_lexer": "ipython3",
   "version": "3.8.5-final"
  },
  "orig_nbformat": 2,
  "kernelspec": {
   "name": "python385jvsc74a57bd0260690d7ac04fdbcd9c6f8efa93e31d8a25398d3e23f9493d65478f1ac089f35",
   "display_name": "Python 3.8.5 64-bit ('base': conda)"
  },
  "metadata": {
   "interpreter": {
    "hash": "260690d7ac04fdbcd9c6f8efa93e31d8a25398d3e23f9493d65478f1ac089f35"
   }
  }
 },
 "nbformat": 4,
 "nbformat_minor": 2,
 "cells": [
  {
   "cell_type": "code",
   "execution_count": 28,
   "metadata": {},
   "outputs": [
    {
     "output_type": "stream",
     "name": "stdout",
     "text": [
      "The autoreload extension is already loaded. To reload it, use:\n  %reload_ext autoreload\n"
     ]
    }
   ],
   "source": [
    "%load_ext autoreload\n",
    "%autoreload 2"
   ]
  },
  {
   "cell_type": "code",
   "execution_count": 29,
   "metadata": {},
   "outputs": [],
   "source": [
    "import pandas as pd\n",
    "import numpy as np\n",
    "import processing"
   ]
  },
  {
   "cell_type": "code",
   "execution_count": 30,
   "metadata": {},
   "outputs": [
    {
     "output_type": "stream",
     "name": "stdout",
     "text": [
      "<class 'pandas.core.frame.DataFrame'>\n"
     ]
    }
   ],
   "source": [
    "netflix_data = pd.read_csv('netflix_titles_enriched.csv')\n",
    "df = pd.DataFrame(netflix_data);\n",
    "print(type(df))\n",
    "netflix_data = df.fillna('NONE', inplace = True);"
   ]
  },
  {
   "cell_type": "code",
   "execution_count": 31,
   "metadata": {},
   "outputs": [],
   "source": [
    "\n",
    "# cast = {}\n",
    "# ratings = {}\n",
    "# country = {}\n",
    "\n",
    "# (directors, director_titles_count) = processing.extract_directors_and_title_count(netflix_data)\n",
    "# (directors, director_titles_count) = processing.remove_rows_containing_nan(directors, director_titles_count)\n",
    "\n",
    "# for index, value in enumerate(df['cast']):\n",
    "#     for member in list(str(value).split(', ')):\n",
    "#         if member not in cast:\n",
    "#             cast[member] = 1\n",
    "#         else:\n",
    "#             cast[member] +=1\n",
    "\n",
    "(ratings, ratings_count) = processing.extract_rating_and_title_count(df)\n",
    "(ratings, ratings_count) = processing.remove_rows_containing_nan(ratings, ratings_count)"
   ]
  },
  {
   "cell_type": "code",
   "execution_count": 32,
   "metadata": {},
   "outputs": [],
   "source": [
    "# all_actors = list(cast.keys())\n",
    "# actor_title_count = list(cast.values())"
   ]
  },
  {
   "cell_type": "code",
   "execution_count": 33,
   "metadata": {},
   "outputs": [],
   "source": [
    "# directors[director_titles_count.index(max(director_titles_count))]\n",
    "# director_titles_count[directors.index('Steven Spielberg')]"
   ]
  },
  {
   "cell_type": "code",
   "execution_count": 34,
   "metadata": {},
   "outputs": [],
   "source": [
    "# import matplotlib.pyplot as plt\n",
    "# import datetime as dt\n",
    "# import processing\n",
    "\n",
    "# add_dates = []\n",
    "# all_dates = []\n",
    "\n",
    "\n",
    "# for day in df[\"date_added\"]:\n",
    "#     if isinstance(day, str):\n",
    "#         all_dates.append(processing.convert_date_to_datetime(day))\n",
    "\n",
    "# for day in all_dates:\n",
    "#     add_dates.append(dt.date.strftime(day, \"%Y/%m/%d\"))\n",
    "\n",
    "# add_dates, tomatometer_score = zip(*sorted(zip(add_dates, list(df[\"rottentomatoes_tomatometer_score\"]))))\n",
    "\n",
    "# add_dates = list(add_dates)\n",
    "\n",
    "# tomatometer_score = list(tomatometer_score)\n",
    "\n",
    "\n",
    "\n",
    "\n",
    "# pl.plot(df[\"date_added\"], df[\"rottentomatoes_tomatometer_score\"])"
   ]
  },
  {
   "cell_type": "code",
   "execution_count": 68,
   "metadata": {
    "tags": []
   },
   "outputs": [
    {
     "output_type": "stream",
     "name": "stdout",
     "text": [
      "['TV-MA', 'TV-14', 'TV-PG', 'R', 'TV-Y7', 'TV-Y', 'PG-13', 'TV-G', 'PG', 'NR', 'G', 'UR', 'TV-Y7-FV', 'NC-17']\n"
     ]
    }
   ],
   "source": [
    "import processing as pg\n",
    "import plots\n",
    "(ratings, counts) = pg.extract_rating_and_title_count(df)\n",
    "\n",
    "(ratings, counts) = pg.remove_rows_containing_nan(ratings, counts)\n",
    "\n",
    "(ratings, counts) = pg.sort_list_based_on_other(ratings, counts, greatest_to_least=True)\n",
    "\n",
    "%matplotlib qt\n",
    "plots.color_changer()\n",
    "plots.pie_chart(ratings, counts, 25, 0)"
   ]
  },
  {
   "cell_type": "code",
   "execution_count": 57,
   "metadata": {},
   "outputs": [],
   "source": [
    "tomatoes = pg.remove_none_entries_one_dataframe_column(df['rottentomatoes_tomatometer_score'])\n",
    "plots.plot_format()\n",
    "plots.violin_plot(tomatoes, x_title=\"\", y_title=\"Tomatometer Score\", graph_title= \"Critic Ratings of Netflix Offerings\")"
   ]
  },
  {
   "cell_type": "code",
   "execution_count": 67,
   "metadata": {
    "tags": []
   },
   "outputs": [
    {
     "output_type": "stream",
     "name": "stdout",
     "text": [
      "28\n[1, 2, 28, 3695, 1871, 764, 482, 395, 261, 256, 191, 177, 148, 127, 127, 92, 104, 91, 59, 59, 57, 62, 28, 34, 46, 36, 35, 25, 41, 17, 19, 14, 17, 11, 10, 6, 9, 17, 8, 8, 14, 11, 9, 9, 18, 3, 10, 11, 6, 9, 4, 2, 7, 9, 4, 4, 8, 2, 4, 1, 3, 2, 1, 1, 2, 2, 2, 1, 2, 3, 3, 3, 2, 1]\n"
     ]
    }
   ],
   "source": [
    "differences = pg.find_year_difference(df[\"date_added\"], df[\"release_year\"])\n",
    "\n",
    "count = 0\n",
    "for difference in differences:\n",
    "    if difference ==-1:\n",
    "        count +=1\n",
    "print(count)\n",
    "\n",
    "difference_dict = {}\n",
    "for difference in differences:\n",
    "    if difference not in difference_dict:\n",
    "        difference_dict[difference] = 1\n",
    "    else:\n",
    "        difference_dict[difference] += 1\n",
    "\n",
    "differences = list(difference_dict.keys())\n",
    "\n",
    "difference_counts = list(difference_dict.values())\n",
    "\n",
    "(difference_counts, differences) = pg.sort_list_based_on_other(difference_counts, differences)\n",
    "\n",
    "plots.bar_graph(x_data=differences[3:], y_data=difference_counts[3:], x_label=\"Time (Years)\", graph_title = \"Time After Release that Netflix Shows are Added\")"
   ]
  },
  {
   "cell_type": "code",
   "execution_count": 59,
   "metadata": {},
   "outputs": [
    {
     "output_type": "execute_result",
     "data": {
      "text/plain": [
       "9657"
      ]
     },
     "metadata": {},
     "execution_count": 59
    }
   ],
   "source": []
  },
  {
   "cell_type": "code",
   "execution_count": null,
   "metadata": {},
   "outputs": [],
   "source": []
  }
 ]
}