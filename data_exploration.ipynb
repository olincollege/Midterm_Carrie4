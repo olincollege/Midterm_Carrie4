{
 "metadata": {
  "language_info": {
   "codemirror_mode": {
    "name": "ipython",
    "version": 3
   },
   "file_extension": ".py",
   "mimetype": "text/x-python",
   "name": "python",
   "nbconvert_exporter": "python",
   "pygments_lexer": "ipython3",
   "version": "3.8.5-final"
  },
  "orig_nbformat": 2,
  "kernelspec": {
   "name": "python3",
   "display_name": "Python 3",
   "language": "python"
  }
 },
 "nbformat": 4,
 "nbformat_minor": 2,
 "cells": [
  {
   "cell_type": "code",
   "execution_count": 1,
   "metadata": {},
   "outputs": [],
   "source": [
    "%load_ext autoreload\n",
    "%autoreload 2"
   ]
  },
  {
   "cell_type": "code",
   "execution_count": 2,
   "metadata": {},
   "outputs": [],
   "source": [
    "import pandas as pd\n",
    "import numpy as np"
   ]
  },
  {
   "cell_type": "code",
   "execution_count": 3,
   "metadata": {},
   "outputs": [],
   "source": [
    "netflix_data = pd.read_csv('netflix_titles.csv')\n",
    "df = pd.DataFrame(netflix_data);\n",
    "netflix_data = df.fillna('NONE');"
   ]
  },
  {
   "cell_type": "code",
   "execution_count": 4,
   "metadata": {},
   "outputs": [],
   "source": [
    "directors = {}\n",
    "cast = {}\n",
    "ratings = {}\n",
    "country = {}\n",
    "for director in netflix_data['director']:\n",
    "    if ',' in director:\n",
    "        for person in list(str(director).split(', ')):\n",
    "            if person not in directors:\n",
    "                directors[person] = 1\n",
    "            else:\n",
    "                directors[person] += 1\n",
    "    else:\n",
    "        if director not in directors:\n",
    "            directors[director] = 1\n",
    "        else:\n",
    "            directors[director] += 1\n",
    "\n",
    "for index, value in enumerate(netflix_data['cast']):\n",
    "    for member in list(str(value).split(', ')):\n",
    "        if member not in cast:\n",
    "            cast[member] = 1\n",
    "        else:\n",
    "            cast[member] +=1\n",
    "\n",
    "for rating in netflix_data['rating']:\n",
    "    if rating not in ratings:\n",
    "        ratings[rating] = 1\n",
    "    else:\n",
    "        ratings[rating] = ratings[rating] + 1"
   ]
  },
  {
   "cell_type": "code",
   "execution_count": 5,
   "metadata": {},
   "outputs": [],
   "source": [
    "del directors['NONE']\n",
    "del cast['NONE']\n",
    "del ratings['NONE']"
   ]
  },
  {
   "cell_type": "code",
   "execution_count": 6,
   "metadata": {},
   "outputs": [],
   "source": [
    "all_directors = list(directors.keys())\n",
    "director_title_count = list(directors.values())\n",
    "all_actors = list(cast.keys())\n",
    "actor_title_count = list(cast.values())\n",
    "all_ratings = list(ratings.keys())\n",
    "ratings_title_count = list(ratings.keys())"
   ]
  },
  {
   "cell_type": "code",
   "execution_count": 7,
   "metadata": {},
   "outputs": [
    {
     "output_type": "execute_result",
     "data": {
      "text/plain": [
       "21"
      ]
     },
     "metadata": {},
     "execution_count": 7
    }
   ],
   "source": [
    "max(director_title_count)"
   ]
  },
  {
   "cell_type": "code",
   "execution_count": 8,
   "metadata": {
    "tags": []
   },
   "outputs": [
    {
     "output_type": "execute_result",
     "data": {
      "text/plain": [
       "['Jan Suter',\n",
       " 'Raúl Campos',\n",
       " 'Marcus Raboy',\n",
       " 'Jay Karas',\n",
       " 'Cathy Garcia-Molina',\n",
       " 'Youssef Chahine',\n",
       " 'Martin Scorsese',\n",
       " 'Jay Chapman',\n",
       " 'Steven Spielberg',\n",
       " 'Shannon Hartman',\n",
       " 'Anurag Kashyap',\n",
       " 'David Dhawan',\n",
       " 'Kunle Afolayan',\n",
       " 'Justin G. Dyck',\n",
       " 'Umesh Mehra',\n",
       " 'Hakan Algül',\n",
       " 'Ryan Polito',\n",
       " 'Johnnie To',\n",
       " 'Lance Bangs',\n",
       " 'Quentin Tarantino',\n",
       " 'Yılmaz Erdoğan',\n",
       " 'Robert Rodriguez',\n",
       " 'Ozan Açıktan',\n",
       " 'McG',\n",
       " 'S.S. Rajamouli']"
      ]
     },
     "metadata": {},
     "execution_count": 8
    }
   ],
   "source": [
    "from data_sorting import sort_list_greatest_to_least\n",
    "\n",
    "sort_list_greatest_to_least(all_directors, director_title_count)"
   ]
  },
  {
   "cell_type": "code",
   "execution_count": null,
   "metadata": {},
   "outputs": [],
   "source": []
  }
 ]
}