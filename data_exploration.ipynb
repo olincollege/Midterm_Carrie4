{
 "metadata": {
  "language_info": {
   "codemirror_mode": {
    "name": "ipython",
    "version": 3
   },
   "file_extension": ".py",
   "mimetype": "text/x-python",
   "name": "python",
   "nbconvert_exporter": "python",
   "pygments_lexer": "ipython3",
   "version": "3.8.5-final"
  },
  "orig_nbformat": 2,
  "kernelspec": {
   "name": "python3",
   "display_name": "Python 3",
   "language": "python"
  }
 },
 "nbformat": 4,
 "nbformat_minor": 2,
 "cells": [
  {
   "cell_type": "code",
   "execution_count": 1,
   "metadata": {},
   "outputs": [],
   "source": [
    "import pandas as pd"
   ]
  },
  {
   "cell_type": "code",
   "execution_count": 2,
   "metadata": {},
   "outputs": [],
   "source": [
    "netflix_data = pd.read_csv('netflix_titles.csv')"
   ]
  },
  {
   "cell_type": "code",
   "execution_count": 23,
   "metadata": {},
   "outputs": [],
   "source": [
    "directors = {}\n",
    "cast = {}\n",
    "ratings = {}\n",
    "country = {}\n",
    "for director in netflix_data['director']:\n",
    "    if director not in directors:\n",
    "        directors[director] = 1\n",
    "    else:\n",
    "        directors[director] += 1\n",
    "\n",
    "for index, value in enumerate(netflix_data['cast']):\n",
    "    for member in list(str(value).split(\",\")):\n",
    "        if member not in cast:\n",
    "            cast[member] = 1\n",
    "        else:\n",
    "            cast[member] +=1\n",
    "\n",
    "for rating in netflix_data['rating']:\n",
    "    if rating not in ratings:\n",
    "        ratings[rating] = 1\n",
    "    else:\n",
    "        ratings[rating] = ratings[rating] + 1"
   ]
  },
  {
   "cell_type": "code",
   "execution_count": 24,
   "metadata": {},
   "outputs": [],
   "source": [
    "all_directors = directors.keys()\n",
    "all_actors = cast.keys()\n",
    "all_ratings = ratings.keys()"
   ]
  },
  {
   "cell_type": "code",
   "execution_count": 17,
   "metadata": {},
   "outputs": [
    {
     "output_type": "stream",
     "name": "stdout",
     "text": [
      "Demián Bichir\n"
     ]
    }
   ],
   "source": []
  },
  {
   "cell_type": "code",
   "execution_count": null,
   "metadata": {},
   "outputs": [],
   "source": []
  }
 ]
}